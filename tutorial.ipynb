{
 "cells": [
  {
   "cell_type": "code",
   "execution_count": 1,
   "id": "d8692713-5068-429b-8502-5362dc0bad0c",
   "metadata": {},
   "outputs": [],
   "source": [
    "import os\n",
    "import torch\n",
    "import pandas as pd\n",
    "import numpy as np\n",
    "import scanpy as sc\n",
    "from sklearn import metrics\n",
    "\n",
    "from STING.STING import STING"
   ]
  },
  {
   "cell_type": "markdown",
   "id": "16cb2b45-5952-4dd1-b41c-6b870b88e286",
   "metadata": {},
   "source": [
    "## Running STING to obtain embeddings for each spot/cell in the ST data"
   ]
  },
  {
   "cell_type": "code",
   "execution_count": 2,
   "id": "96bcdfaf-dde1-40cb-9eff-de58e4f73cef",
   "metadata": {},
   "outputs": [],
   "source": [
    "# Change filepath to refer to the data file you wish to use\n",
    "filepath = './Data/MER4.h5ad'\n",
    "adata = sc.read_h5ad(filepath)\n",
    "adata.var_names_make_unique()\n",
    "\n",
    "# We recommend using the GPU if available\n",
    "device = torch.device('cuda' if torch.cuda.is_available() else 'cpu')\n"
   ]
  },
  {
   "cell_type": "code",
   "execution_count": 3,
   "id": "f259939e-1570-4381-87bd-2bec1a501ef7",
   "metadata": {},
   "outputs": [
    {
     "name": "stderr",
     "output_type": "stream",
     "text": [
      "/users/ajain59/.conda/envs/STProj/lib/python3.11/site-packages/scanpy/preprocessing/_highly_variable_genes.py:62: UserWarning: `flavor='seurat_v3'` expects raw count data, but non-integers were found.\n",
      "  warnings.warn(\n",
      "/users/ajain59/.conda/envs/STProj/lib/python3.11/site-packages/scanpy/preprocessing/_highly_variable_genes.py:62: UserWarning: `flavor='seurat_v3'` expects raw count data, but non-integers were found.\n",
      "  warnings.warn(\n",
      "/users/ajain59/.conda/envs/STProj/lib/python3.11/site-packages/sklearn/cluster/_kmeans.py:870: FutureWarning: The default value of `n_init` will change from 10 to 'auto' in 1.4. Set the value of `n_init` explicitly to suppress the warning\n",
      "  warnings.warn(\n"
     ]
    },
    {
     "name": "stdout",
     "output_type": "stream",
     "text": [
      "Begin to train ST data...\n"
     ]
    },
    {
     "name": "stderr",
     "output_type": "stream",
     "text": [
      "100%|██████████| 900/900 [09:18<00:00,  1.61it/s]\n"
     ]
    },
    {
     "name": "stdout",
     "output_type": "stream",
     "text": [
      "Optimization finished for ST data!\n"
     ]
    }
   ],
   "source": [
    "model = STING(adata, device=device, epochs = 900,random_seed = 23)\n",
    "\n",
    "# train model\n",
    "adata = model.train()"
   ]
  },
  {
   "cell_type": "code",
   "execution_count": 4,
   "id": "b5065f21-fb53-4ab4-9aeb-f87f3a6f583f",
   "metadata": {},
   "outputs": [
    {
     "name": "stdout",
     "output_type": "stream",
     "text": [
      "Embeddings shape -  (5488, 64)\n"
     ]
    }
   ],
   "source": [
    "embed = adata.obsm['emb']\n",
    "\n",
    "print(\"Embeddings shape - \", embed.shape)"
   ]
  },
  {
   "cell_type": "markdown",
   "id": "972ec04a-d6fc-4982-b5c2-c55f65792d26",
   "metadata": {},
   "source": [
    "### Accessing embeddings\n",
    "`embed` is an n$\\times$d shaped array that contains d-sized embeddings for the n-spots. These embeddings can be used as an input into any clustering algorithm to generate clusters."
   ]
  }
 ],
 "metadata": {
  "kernelspec": {
   "display_name": "Python 3 (ipykernel)",
   "language": "python",
   "name": "python3"
  },
  "language_info": {
   "codemirror_mode": {
    "name": "ipython",
    "version": 3
   },
   "file_extension": ".py",
   "mimetype": "text/x-python",
   "name": "python",
   "nbconvert_exporter": "python",
   "pygments_lexer": "ipython3",
   "version": "3.11.5"
  }
 },
 "nbformat": 4,
 "nbformat_minor": 5
}
