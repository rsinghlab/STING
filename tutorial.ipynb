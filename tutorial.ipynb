{
 "cells": [
  {
   "cell_type": "code",
   "execution_count": 1,
   "id": "d8692713-5068-429b-8502-5362dc0bad0c",
   "metadata": {},
   "outputs": [],
   "source": [
    "import os\n",
    "import torch\n",
    "import numpy as np\n",
    "import scanpy as sc\n",
    "from sklearn import metrics\n",
    "\n",
    "from STING.STING import STING"
   ]
  },
  {
   "cell_type": "markdown",
   "id": "16cb2b45-5952-4dd1-b41c-6b870b88e286",
   "metadata": {},
   "source": [
    "## Running STING to obtain embeddings for each spot/cell in the ST data"
   ]
  },
  {
   "cell_type": "code",
   "execution_count": 2,
   "id": "96bcdfaf-dde1-40cb-9eff-de58e4f73cef",
   "metadata": {},
   "outputs": [],
   "source": [
    "# Change filepath to refer to the data file you wish to use\n",
    "filepath = './Data/MERA1C1.h5ad'\n",
    "adata = sc.read_h5ad(filepath)\n",
    "adata.var_names_make_unique()\n",
    "\n",
    "# We recommend using the GPU if available\n",
    "device = torch.device('cuda' if torch.cuda.is_available() else 'cpu')\n"
   ]
  },
  {
   "cell_type": "code",
   "execution_count": 3,
   "id": "f259939e-1570-4381-87bd-2bec1a501ef7",
   "metadata": {},
   "outputs": [
    {
     "name": "stderr",
     "output_type": "stream",
     "text": [
      "/users/ajain59/.conda/envs/Test/lib/python3.11/site-packages/legacy_api_wrap/__init__.py:82: UserWarning: `flavor='seurat_v3'` expects raw count data, but non-integers were found.\n",
      "  return fn(*args_all, **kw)\n",
      "/users/ajain59/.conda/envs/Test/lib/python3.11/site-packages/legacy_api_wrap/__init__.py:82: UserWarning: `flavor='seurat_v3'` expects raw count data, but non-integers were found.\n",
      "  return fn(*args_all, **kw)\n"
     ]
    },
    {
     "name": "stdout",
     "output_type": "stream",
     "text": [
      "Begin to train ST data...\n"
     ]
    },
    {
     "name": "stderr",
     "output_type": "stream",
     "text": [
      "100%|██████████| 600/600 [13:12<00:00,  1.32s/it]\n"
     ]
    },
    {
     "name": "stdout",
     "output_type": "stream",
     "text": [
      "Optimization finished for ST data!\n"
     ]
    }
   ],
   "source": [
    "model = STING(adata, device=device, epochs = 600)\n",
    "\n",
    "# train model\n",
    "adata = model.train()"
   ]
  },
  {
   "cell_type": "code",
   "execution_count": 4,
   "id": "b5065f21-fb53-4ab4-9aeb-f87f3a6f583f",
   "metadata": {},
   "outputs": [
    {
     "name": "stdout",
     "output_type": "stream",
     "text": [
      "Embeddings shape -  (6000, 64)\n"
     ]
    }
   ],
   "source": [
    "embed = adata.obsm['emb']\n",
    "\n",
    "print(\"Embeddings shape - \", embed.shape)"
   ]
  },
  {
   "cell_type": "markdown",
   "id": "972ec04a-d6fc-4982-b5c2-c55f65792d26",
   "metadata": {},
   "source": [
    "### Accessing embeddings\n",
    "`embed` is an n$\\times$d shaped array that contains d-sized embeddings for the n-spots. These embeddings can be used as an input into any clustering algorithm to generate clusters."
   ]
  },
  {
   "cell_type": "markdown",
   "id": "551e9c5b",
   "metadata": {},
   "source": [
    "## Obtaining Attention Scores\n",
    "\n",
    "Once we have trained the STING model, we can use the adata file to obtain the attention scores for either the entire slice or each cluster. \n",
    "\n",
    "For a slice-wide attention score matrix, you don't need to perform clustering. You can set `clustered = False` when calling `get_attention_matrics`. The function will return two objects. The first is the attention matrix - a numpy array of size g\\*g, where g is the number of highly variable genes (HVGs). The second output is the HVG list - a list with the order of the HVGs. You can use both arrays to obtain edge scores between any gene pair.\n",
    "\n",
    "For a cluster-wide attention score matrix, you need to perform clustering. Store the clusters in `adata.obs['clusters']` for this step and set `clustered = True` when calling `get_attention_matrics`. The function will return three objects. The first is the attention matrix -  a numpy array of size c\\*g\\*g, where c is the number of clusters, and g is the number of highly variable genes (HVGs). The second output is the HVG list. The third output is the cluster order - a numpy array containing the order of  the clusters in the attention matrix. You can use all three arrays to obtain edge scores between any gene pair in any cluster."
   ]
  },
  {
   "cell_type": "code",
   "execution_count": 5,
   "id": "cd75ebae",
   "metadata": {},
   "outputs": [
    {
     "name": "stderr",
     "output_type": "stream",
     "text": [
      "/oscar/home/ajain59/NISTHGNN/STING/STING/STING/attention.py:68: RuntimeWarning: invalid value encountered in divide\n",
      "  final_avgs = np.nan_to_num(np.divide(avgs + avgs.T, counts + counts.T))\n"
     ]
    }
   ],
   "source": [
    "from STING.attention import get_attention_matrices\n",
    "att_matrix, hvg_list = get_attention_matrices(adata, clustered = False)"
   ]
  },
  {
   "cell_type": "code",
   "execution_count": 6,
   "id": "8bda9c0c",
   "metadata": {},
   "outputs": [
    {
     "name": "stdout",
     "output_type": "stream",
     "text": [
      "Attention matrix shape - (1122, 1122)\n",
      "HVG list length - 1122\n"
     ]
    }
   ],
   "source": [
    "print(\"Attention matrix shape -\", att_matrix.shape)\n",
    "print(\"HVG list length -\", len(hvg_list))"
   ]
  }
 ],
 "metadata": {
  "kernelspec": {
   "display_name": "Test",
   "language": "python",
   "name": "test"
  },
  "language_info": {
   "codemirror_mode": {
    "name": "ipython",
    "version": 3
   },
   "file_extension": ".py",
   "mimetype": "text/x-python",
   "name": "python",
   "nbconvert_exporter": "python",
   "pygments_lexer": "ipython3",
   "version": "3.11.0"
  }
 },
 "nbformat": 4,
 "nbformat_minor": 5
}
